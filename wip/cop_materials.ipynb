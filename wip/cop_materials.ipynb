{
 "cells": [
  {
   "cell_type": "markdown",
   "metadata": {},
   "source": [
    "### Iter protocol"
   ]
  },
  {
   "cell_type": "markdown",
   "metadata": {},
   "source": [
    "#### For loop under the hood"
   ]
  },
  {
   "cell_type": "code",
   "execution_count": null,
   "metadata": {},
   "outputs": [],
   "source": [
    "%%HTML\n",
    "<iframe src='https://gfycat.com/ifr/YearlyWelcomeBlowfish' frameborder='0' scrolling='no' allowfullscreen width='640' height='1185'></iframe>"
   ]
  },
  {
   "cell_type": "code",
   "execution_count": null,
   "metadata": {},
   "outputs": [],
   "source": [
    "for value in [1, 2, 3]:\n",
    "    print(value)"
   ]
  },
  {
   "cell_type": "code",
   "execution_count": null,
   "metadata": {},
   "outputs": [],
   "source": [
    "it = iter([1, 2, 3])\n",
    "try:\n",
    "    while True:\n",
    "        value = next(it)\n",
    "        print(value)\n",
    "except StopIteration:\n",
    "    pass"
   ]
  },
  {
   "cell_type": "markdown",
   "metadata": {},
   "source": [
    "How to create iterable object? Implement `__iter__` that returns object implementing `__next__`"
   ]
  },
  {
   "cell_type": "code",
   "execution_count": null,
   "metadata": {},
   "outputs": [],
   "source": [
    "class Counter:\n",
    "    def __init__(self, low, high):\n",
    "        self.current = low\n",
    "        self.high = high\n",
    "\n",
    "    def __iter__(self):\n",
    "        return self\n",
    "\n",
    "    def __next__(self):\n",
    "        if self.current > self.high:\n",
    "            raise StopIteration\n",
    "        else:\n",
    "            self.current += 1\n",
    "            return self.current - 1\n",
    "\n",
    "\n",
    "for i in Counter(3, 8):\n",
    "    print(i)"
   ]
  },
  {
   "cell_type": "markdown",
   "metadata": {},
   "source": [
    "You don't have to return self in `__iter__`"
   ]
  },
  {
   "cell_type": "code",
   "execution_count": null,
   "metadata": {},
   "outputs": [],
   "source": [
    "class Counter:\n",
    "    def __iter__(self):\n",
    "        return iter([1, 2, 3])\n",
    "\n",
    "for value in Counter():\n",
    "    print(value)"
   ]
  },
  {
   "cell_type": "markdown",
   "metadata": {},
   "source": [
    "### Generators"
   ]
  },
  {
   "cell_type": "markdown",
   "metadata": {},
   "source": [
    "Generator is just like a container, but values are generated on the fly as you iterate"
   ]
  },
  {
   "cell_type": "code",
   "execution_count": null,
   "metadata": {},
   "outputs": [],
   "source": [
    "generator = range(10000000)\n",
    "big_list = list(generator)\n",
    "\n",
    "from sys import getsizeof\n",
    "\n",
    "print(getsizeof(generator))\n",
    "print(getsizeof(big_list))"
   ]
  },
  {
   "cell_type": "markdown",
   "metadata": {},
   "source": [
    "Generator comprehensions:"
   ]
  },
  {
   "cell_type": "code",
   "execution_count": null,
   "metadata": {},
   "outputs": [],
   "source": [
    "%%timeit\n",
    "power_2 = [i**2 for i in range(10**6)]"
   ]
  },
  {
   "cell_type": "code",
   "execution_count": null,
   "metadata": {},
   "outputs": [],
   "source": [
    "%%timeit\n",
    "power_2_gen = (i**2 for i in range(10**6))"
   ]
  },
  {
   "cell_type": "markdown",
   "metadata": {},
   "source": [
    "### Yield"
   ]
  },
  {
   "cell_type": "code",
   "execution_count": null,
   "metadata": {},
   "outputs": [],
   "source": [
    "def some_generator():\n",
    "    print(\"Starting\")\n",
    "    yield 1\n",
    "    print(\"Let's come back to where we left off\")\n",
    "    yield 2\n",
    "    print(\"Nope. No more yields\")"
   ]
  },
  {
   "cell_type": "code",
   "execution_count": null,
   "metadata": {},
   "outputs": [],
   "source": [
    "gen = some_generator()"
   ]
  },
  {
   "cell_type": "code",
   "execution_count": null,
   "metadata": {},
   "outputs": [],
   "source": [
    "next(gen)"
   ]
  },
  {
   "cell_type": "code",
   "execution_count": null,
   "metadata": {},
   "outputs": [],
   "source": [
    "next(gen)"
   ]
  },
  {
   "cell_type": "code",
   "execution_count": null,
   "metadata": {},
   "outputs": [],
   "source": [
    "next(gen)"
   ]
  },
  {
   "cell_type": "code",
   "execution_count": null,
   "metadata": {},
   "outputs": [],
   "source": [
    "list(some_generator())"
   ]
  },
  {
   "cell_type": "code",
   "execution_count": null,
   "metadata": {},
   "outputs": [],
   "source": [
    "def primitive_range(start: int, stop: int, step: int = 1):\n",
    "    current = start\n",
    "    while current < stop:\n",
    "        yield current\n",
    "        current += step\n",
    "\n",
    "\n",
    "for i in primitive_range(0, 4):\n",
    "    print(i)"
   ]
  },
  {
   "cell_type": "code",
   "execution_count": null,
   "metadata": {},
   "outputs": [],
   "source": [
    "def infinite_power_2_gen():\n",
    "    current = 2\n",
    "    while True:\n",
    "        yield current\n",
    "        current *= 2"
   ]
  },
  {
   "cell_type": "code",
   "execution_count": null,
   "metadata": {},
   "outputs": [],
   "source": [
    "powers_of_2 = infinite_power_2_gen()\n",
    "first_4 = powers_of_2[:4]"
   ]
  },
  {
   "cell_type": "code",
   "execution_count": null,
   "metadata": {},
   "outputs": [],
   "source": [
    "from itertools import islice\n",
    "first_4_powers_gen = islice(infinite_power_2_gen(), 4)\n",
    "list(first_4_powers_gen)"
   ]
  },
  {
   "cell_type": "markdown",
   "metadata": {},
   "source": [
    "#### Data pipelines"
   ]
  },
  {
   "cell_type": "code",
   "execution_count": null,
   "metadata": {},
   "outputs": [],
   "source": [
    "!cat techcrunch.csv"
   ]
  },
  {
   "cell_type": "code",
   "execution_count": null,
   "metadata": {},
   "outputs": [],
   "source": [
    "%%HTML\n",
    "<blockquote class=\"reddit-card\" data-card-created=\"1570178477\"><a href=\"https://www.reddit.com/r/ProgrammerHumor/comments/ct9942/cries_in_segmentation_fault/\">Cries in segmentation fault..</a> from <a href=\"http://www.reddit.com/r/ProgrammerHumor\">r/ProgrammerHumor</a></blockquote>\n",
    "<script async src=\"//embed.redditmedia.com/widgets/platform.js\" charset=\"UTF-8\"></script>"
   ]
  },
  {
   "cell_type": "code",
   "execution_count": null,
   "metadata": {},
   "outputs": [],
   "source": [
    "file_name = \"techcrunch.csv\"\n",
    "lines = (line for line in open(file_name))\n",
    "list_line = (s.rstrip().split(\",\") for s in lines)\n",
    "cols = next(list_line)\n",
    "company_dicts = (dict(zip(cols, data)) for data in list_line)\n",
    "funding = (\n",
    "    int(company_dict[\"raisedAmt\"])\n",
    "    for company_dict in company_dicts\n",
    "    if company_dict[\"round\"] == \"A\"\n",
    ")\n",
    "total_series_a = sum(funding)\n",
    "print(f\"Total series A fundraising: ${total_series_a}\")\n"
   ]
  },
  {
   "cell_type": "markdown",
   "metadata": {},
   "source": [
    "### \"My function is not called\" :("
   ]
  },
  {
   "cell_type": "code",
   "execution_count": null,
   "metadata": {},
   "outputs": [],
   "source": [
    "def useful_function():\n",
    "    print(\"\"\"Nie ma czegoś takiego jak publiczne pieniądze. \n",
    "          Jeśli rząd mówi, że komuś coś da, to znaczy, że zabierze tobie, \n",
    "          bo rząd nie ma żadnych własnych pieniędzy\"\"\")\n",
    "    yield 1\n",
    "    # lots of other code\n",
    "    return 10\n",
    "    \n",
    "x = useful_function()"
   ]
  },
  {
   "cell_type": "code",
   "execution_count": null,
   "metadata": {},
   "outputs": [],
   "source": [
    "def counter():\n",
    "    current = 0\n",
    "    while True:\n",
    "        next_val = yield current\n",
    "        if next_val is not None:\n",
    "            current = next_val\n",
    "        current += 1\n",
    "\n",
    "\n",
    "c = counter()"
   ]
  },
  {
   "cell_type": "code",
   "execution_count": null,
   "metadata": {},
   "outputs": [],
   "source": [
    "next(c)"
   ]
  },
  {
   "cell_type": "code",
   "execution_count": null,
   "metadata": {},
   "outputs": [],
   "source": [
    "next(c)"
   ]
  },
  {
   "cell_type": "code",
   "execution_count": null,
   "metadata": {},
   "outputs": [],
   "source": [
    "c.send(-100)"
   ]
  },
  {
   "cell_type": "code",
   "execution_count": null,
   "metadata": {},
   "outputs": [],
   "source": [
    "next(c)"
   ]
  },
  {
   "cell_type": "code",
   "execution_count": null,
   "metadata": {},
   "outputs": [],
   "source": [
    "c.throw(RuntimeError(\"Sorry\"))"
   ]
  },
  {
   "cell_type": "code",
   "execution_count": null,
   "metadata": {},
   "outputs": [],
   "source": [
    "c.close()"
   ]
  },
  {
   "cell_type": "markdown",
   "metadata": {},
   "source": [
    "### Context managers - RAII in Python"
   ]
  },
  {
   "cell_type": "code",
   "execution_count": null,
   "metadata": {},
   "outputs": [],
   "source": [
    "with open(\"irrelevant.txt\",\"w\") as file:\n",
    "    file.write(\"raii\")"
   ]
  },
  {
   "cell_type": "markdown",
   "metadata": {},
   "source": [
    "Is better than:"
   ]
  },
  {
   "cell_type": "code",
   "execution_count": null,
   "metadata": {},
   "outputs": [],
   "source": [
    "file = open(\"irrelevant.txt\",\"w\")\n",
    "try:\n",
    "    file.write(\"raii\")\n",
    "finally:\n",
    "    file.close()"
   ]
  },
  {
   "cell_type": "code",
   "execution_count": null,
   "metadata": {},
   "outputs": [],
   "source": [
    "from threading import Lock\n",
    "\n",
    "lock = Lock()\n",
    "x = 10"
   ]
  },
  {
   "cell_type": "code",
   "execution_count": null,
   "metadata": {},
   "outputs": [],
   "source": [
    "lock.acquire()\n",
    "x += 1\n",
    "lock.release()"
   ]
  },
  {
   "cell_type": "code",
   "execution_count": null,
   "metadata": {},
   "outputs": [],
   "source": [
    "with lock:\n",
    "    x += 1\n",
    "with lock:\n",
    "    x += 1"
   ]
  },
  {
   "cell_type": "code",
   "execution_count": null,
   "metadata": {
    "scrolled": false
   },
   "outputs": [],
   "source": [
    "%%HTML\n",
    "<blockquote class=\"reddit-card\" data-card-created=\"1570178622\"><a href=\"https://www.reddit.com/r/ProgrammerHumor/comments/bfr1xc/i_love_python_but/\">I love Python, but...</a> from <a href=\"http://www.reddit.com/r/ProgrammerHumor\">r/ProgrammerHumor</a></blockquote>\n",
    "<script async src=\"//embed.redditmedia.com/widgets/platform.js\" charset=\"UTF-8\"></script>"
   ]
  },
  {
   "cell_type": "markdown",
   "metadata": {},
   "source": [
    "#### How does this work under the hood?"
   ]
  },
  {
   "cell_type": "code",
   "execution_count": null,
   "metadata": {},
   "outputs": [],
   "source": [
    "class File:\n",
    "    def __init__(self, name: str, mode: str = \"r\"):\n",
    "        self.name = name\n",
    "        self.mode = mode\n",
    "        self.file_handle = None\n",
    "\n",
    "    def __enter__(self):\n",
    "        self.file_handle = open(self.name, self.mode)\n",
    "        return self.file_handle\n",
    "\n",
    "    def __exit__(self, exc_type, exc_val, exc_tb):\n",
    "        print(\"__exit__ called\")\n",
    "        if self.file_handle:\n",
    "            self.file_handle.close()\n",
    "\n",
    "\n",
    "with File(\"irrelevant.txt\", \"r\") as f:\n",
    "    10 / 0"
   ]
  },
  {
   "cell_type": "markdown",
   "metadata": {},
   "source": [
    "### contextlib"
   ]
  },
  {
   "cell_type": "code",
   "execution_count": null,
   "metadata": {},
   "outputs": [],
   "source": [
    "from contextlib import contextmanager\n",
    "\n",
    "\n",
    "@contextmanager\n",
    "def File(name: str, mode: str = \"r\"):\n",
    "    file_handle = None\n",
    "    try:\n",
    "        file_handle = open(name, mode)\n",
    "        yield file_handle\n",
    "    finally:\n",
    "        if file_handle:\n",
    "            file_handle.close()"
   ]
  },
  {
   "cell_type": "code",
   "execution_count": null,
   "metadata": {},
   "outputs": [],
   "source": [
    "with File(\"irrelevant.txt\", \"r\") as f:\n",
    "    10 / 0"
   ]
  },
  {
   "cell_type": "code",
   "execution_count": null,
   "metadata": {},
   "outputs": [],
   "source": [
    "with File(\"3.txt\", \"r\") as f:\n",
    "    10 / 0"
   ]
  },
  {
   "cell_type": "markdown",
   "metadata": {},
   "source": []
  },
  {
   "cell_type": "code",
   "execution_count": null,
   "metadata": {},
   "outputs": [],
   "source": [
    "import sys\n",
    "import datetime\n",
    "from typing import Generator\n",
    "from typing.io import TextIO\n",
    "from contextlib import contextmanager\n",
    "\n",
    "\n",
    "\n",
    "@contextmanager\n",
    "def execution_time_printed(file: TextIO = sys.stdout) -> Generator[None, None, None]:\n",
    "    start = datetime.datetime.now()\n",
    "    yield\n",
    "    print(\"Execution time:\", datetime.datetime.now() - start, file=file)"
   ]
  },
  {
   "cell_type": "code",
   "execution_count": null,
   "metadata": {},
   "outputs": [],
   "source": [
    "with execution_time_printed():\n",
    "    print(\"inside\")\n",
    "    import time\n",
    "    time.sleep(0.5)\n",
    "print(\"outside\")"
   ]
  },
  {
   "cell_type": "markdown",
   "metadata": {},
   "source": [
    "### Reentrant contextmanagers"
   ]
  },
  {
   "cell_type": "code",
   "execution_count": null,
   "metadata": {},
   "outputs": [],
   "source": [
    "file = open(\"irrelevant.txt\",\"w\")\n",
    "with file:\n",
    "    file.write(\"a\")\n",
    "\n",
    "    \n",
    "with file:\n",
    "    file.write(\"a\")"
   ]
  },
  {
   "cell_type": "code",
   "execution_count": null,
   "metadata": {},
   "outputs": [],
   "source": [
    "import sqlite3\n",
    "db = sqlite3.connect(\":memory:\")\n",
    "with db:\n",
    "    db.execute(\"\")\n",
    "    db.execute(\"\")"
   ]
  },
  {
   "cell_type": "code",
   "execution_count": null,
   "metadata": {},
   "outputs": [],
   "source": [
    "with db:\n",
    "    db.execute(\"\")\n",
    "    db.execute(\"\")"
   ]
  },
  {
   "cell_type": "markdown",
   "metadata": {},
   "source": [
    "### Btw threading pool context manager"
   ]
  },
  {
   "cell_type": "code",
   "execution_count": null,
   "metadata": {},
   "outputs": [],
   "source": [
    "from concurrent.futures import ThreadPoolExecutor\n",
    "\n",
    "with ThreadPoolExecutor(max_workers=1) as executor:\n",
    "    future = executor.submit(pow, 323, 1235)\n",
    "\n",
    "print(future.result())"
   ]
  },
  {
   "cell_type": "code",
   "execution_count": null,
   "metadata": {},
   "outputs": [],
   "source": [
    "from concurrent.futures import ProcessPoolExecutor, Executor\n",
    "\n",
    "with ProcessPoolExecutor(max_workers=8) as executor:\n",
    "    executor: Executor\n",
    "    powers = list(executor.map(pow, range(100), range(100)))\n",
    "powers"
   ]
  },
  {
   "cell_type": "code",
   "execution_count": null,
   "metadata": {},
   "outputs": [],
   "source": []
  },
  {
   "cell_type": "markdown",
   "metadata": {},
   "source": [
    "### Multiple inheritance, method resolution order (mro)"
   ]
  },
  {
   "cell_type": "code",
   "execution_count": null,
   "metadata": {},
   "outputs": [],
   "source": [
    "class A:\n",
    "    def f(self):\n",
    "        print(\"A\")\n",
    "\n",
    "class B:\n",
    "    def f(self):\n",
    "        print(\"B\")\n",
    "\n",
    "class C(B,A):\n",
    "    pass\n",
    "\n",
    "C().f()                             \n",
    "print(C.mro())"
   ]
  },
  {
   "cell_type": "code",
   "execution_count": null,
   "metadata": {},
   "outputs": [],
   "source": [
    "class C(A, B):\n",
    "    pass\n",
    "\n",
    "C().f()                             \n",
    "print(C.mro())"
   ]
  },
  {
   "cell_type": "code",
   "execution_count": 50,
   "metadata": {},
   "outputs": [
    {
     "ename": "NameError",
     "evalue": "name 'A' is not defined",
     "output_type": "error",
     "traceback": [
      "\u001b[0;31m---------------------------------------------------------------------------\u001b[0m",
      "\u001b[0;31mNameError\u001b[0m                                 Traceback (most recent call last)",
      "\u001b[0;32m<ipython-input-50-79ed242d162e>\u001b[0m in \u001b[0;36m<module>\u001b[0;34m\u001b[0m\n\u001b[0;32m----> 1\u001b[0;31m \u001b[0;32mclass\u001b[0m \u001b[0mC\u001b[0m\u001b[0;34m(\u001b[0m\u001b[0mA\u001b[0m\u001b[0;34m,\u001b[0m \u001b[0mB\u001b[0m\u001b[0;34m)\u001b[0m\u001b[0;34m:\u001b[0m\u001b[0;34m\u001b[0m\u001b[0;34m\u001b[0m\u001b[0m\n\u001b[0m\u001b[1;32m      2\u001b[0m     \u001b[0;32mdef\u001b[0m \u001b[0mf\u001b[0m\u001b[0;34m(\u001b[0m\u001b[0mself\u001b[0m\u001b[0;34m)\u001b[0m\u001b[0;34m:\u001b[0m\u001b[0;34m\u001b[0m\u001b[0;34m\u001b[0m\u001b[0m\n\u001b[1;32m      3\u001b[0m         \u001b[0mB\u001b[0m\u001b[0;34m.\u001b[0m\u001b[0mf\u001b[0m\u001b[0;34m(\u001b[0m\u001b[0mself\u001b[0m\u001b[0;34m)\u001b[0m \u001b[0;31m# in general class.method(self) == object.method()\u001b[0m\u001b[0;34m\u001b[0m\u001b[0;34m\u001b[0m\u001b[0m\n\u001b[1;32m      4\u001b[0m \u001b[0;34m\u001b[0m\u001b[0m\n\u001b[1;32m      5\u001b[0m \u001b[0mC\u001b[0m\u001b[0;34m(\u001b[0m\u001b[0;34m)\u001b[0m\u001b[0;34m.\u001b[0m\u001b[0mf\u001b[0m\u001b[0;34m(\u001b[0m\u001b[0;34m)\u001b[0m\u001b[0;34m\u001b[0m\u001b[0;34m\u001b[0m\u001b[0m\n",
      "\u001b[0;31mNameError\u001b[0m: name 'A' is not defined"
     ]
    }
   ],
   "source": [
    "class C(A, B):\n",
    "    def f(self):\n",
    "        B.f(self) # in general class.method(self) == object.method()\n",
    "\n",
    "C().f()"
   ]
  },
  {
   "cell_type": "markdown",
   "metadata": {},
   "source": [
    "### debugging - pdb"
   ]
  },
  {
   "cell_type": "code",
   "execution_count": null,
   "metadata": {},
   "outputs": [],
   "source": []
  },
  {
   "cell_type": "markdown",
   "metadata": {},
   "source": [
    "### Asyncio"
   ]
  },
  {
   "cell_type": "code",
   "execution_count": null,
   "metadata": {},
   "outputs": [],
   "source": [
    "import asyncio\n",
    "import time\n",
    "\n",
    "\n",
    "async def say_after(delay, what):\n",
    "    await asyncio.sleep(delay)\n",
    "    print(what)\n",
    "\n",
    "\n",
    "async def main():\n",
    "    task1 = asyncio.create_task(say_after(1, \"hello\"))\n",
    "\n",
    "    task2 = asyncio.create_task(say_after(2, \"world\"))\n",
    "\n",
    "    print(f\"started at {time.strftime('%X')}\")\n",
    "\n",
    "    # Wait until both tasks are completed (should take\n",
    "    # around 2 seconds.)\n",
    "    await task1\n",
    "    await task2\n",
    "\n",
    "    print(f\"finished at {time.strftime('%X')}\")\n",
    "\n",
    "await main()"
   ]
  },
  {
   "cell_type": "markdown",
   "metadata": {},
   "source": [
    "Normally you would use ```asyncio.run(main())```, jupyter (IPython) is already running an event loop"
   ]
  },
  {
   "cell_type": "code",
   "execution_count": null,
   "metadata": {},
   "outputs": [],
   "source": [
    "import time\n",
    "from queue import Queue\n",
    "from threading import Thread\n",
    "\n",
    "\n",
    "def producer_func(queue):\n",
    "    print(f\"Putting {1}\")\n",
    "    queue.put(1)\n",
    "    print(f\"Putting {2}\")\n",
    "    queue.put(2)\n",
    "    print(f\"Producer waiting for more tasks\")\n",
    "    time.sleep(2)\n",
    "    print(f\"Putting {3}\")\n",
    "    queue.put(3)\n",
    "    print(f\"Producer shuting down\")\n",
    "    queue.put(None)\n",
    "\n",
    "\n",
    "def consumer_func(queue):\n",
    "    while True:\n",
    "        task = queue.get()\n",
    "        if task is None:\n",
    "            print(f\"Got None, exiting\")\n",
    "            queue.task_done()\n",
    "            break\n",
    "        time.sleep(0.5)\n",
    "        queue.task_done()\n",
    "        print(f\"Task Done {task}\")\n",
    "\n",
    "queue = Queue()\n",
    "producer = Thread(target=producer_func(queue))\n",
    "consumer = Thread(target=consumer_func(queue))\n",
    "producer.start()\n",
    "consumer.start()\n",
    "queue.join()"
   ]
  },
  {
   "cell_type": "code",
   "execution_count": null,
   "metadata": {},
   "outputs": [],
   "source": [
    "import asyncio\n",
    "import time\n",
    "\n",
    "\n",
    "async def producer(queue):\n",
    "    print(f\"Putting {1}\")\n",
    "    await queue.put(1)\n",
    "    print(f\"Putting {2}\")\n",
    "    await queue.put(2)\n",
    "    print(f\"Producer waiting for more tasks\")\n",
    "    await asyncio.sleep(2)\n",
    "    print(f\"Putting {3}\")\n",
    "    await queue.put(3)\n",
    "    print(f\"Producer shuting down\")\n",
    "    await queue.put(None)\n",
    "\n",
    "\n",
    "async def consumer(queue):\n",
    "    while True:\n",
    "        task = await queue.get()\n",
    "        if task is None:\n",
    "            print(f\"Got None, exiting\")\n",
    "            queue.task_done()\n",
    "            break\n",
    "        time.sleep(0.5)\n",
    "        queue.task_done()\n",
    "        print(f\"Task Done {task}\")\n",
    "\n",
    "\n",
    "async def main():\n",
    "    queue = asyncio.queues.Queue()\n",
    "    producer_coro = asyncio.create_task(producer(queue))\n",
    "    consumer_coro = asyncio.create_task(consumer(queue))\n",
    "    await producer_coro\n",
    "    await consumer_coro\n",
    "    await queue.join()\n",
    "\n",
    "\n",
    "await main()\n"
   ]
  },
  {
   "cell_type": "code",
   "execution_count": null,
   "metadata": {},
   "outputs": [],
   "source": []
  },
  {
   "cell_type": "markdown",
   "metadata": {},
   "source": [
    "### Itertools"
   ]
  },
  {
   "cell_type": "code",
   "execution_count": null,
   "metadata": {},
   "outputs": [],
   "source": [
    "import itertools"
   ]
  },
  {
   "cell_type": "code",
   "execution_count": null,
   "metadata": {},
   "outputs": [],
   "source": [
    "list(itertools.chain([1, 2], (3, 4, 5), \"6\"))"
   ]
  },
  {
   "cell_type": "code",
   "execution_count": null,
   "metadata": {},
   "outputs": [],
   "source": [
    "list(itertools.repeat(1,5))"
   ]
  },
  {
   "cell_type": "code",
   "execution_count": null,
   "metadata": {},
   "outputs": [],
   "source": [
    "list(itertools.islice(itertools.count(), 4))"
   ]
  },
  {
   "cell_type": "markdown",
   "metadata": {},
   "source": [
    "### Enumerate"
   ]
  },
  {
   "cell_type": "code",
   "execution_count": null,
   "metadata": {},
   "outputs": [],
   "source": [
    "values = [\"a\",\"b\"]"
   ]
  },
  {
   "cell_type": "code",
   "execution_count": null,
   "metadata": {},
   "outputs": [],
   "source": [
    "# DONT DO THIS:\n",
    "for i in range(len(values)):\n",
    "    print(f\"values[{i}] = {values[i]}\")"
   ]
  },
  {
   "cell_type": "code",
   "execution_count": null,
   "metadata": {},
   "outputs": [],
   "source": [
    "for index, value in enumerate(values):\n",
    "    print(f\"values[{index}] = {value}\")"
   ]
  },
  {
   "cell_type": "code",
   "execution_count": null,
   "metadata": {},
   "outputs": [],
   "source": [
    "list(enumerate(values)) == [(0, \"a\"), (1, \"b\")]"
   ]
  },
  {
   "cell_type": "markdown",
   "metadata": {},
   "source": [
    "# TODO: dynamic class creation"
   ]
  },
  {
   "cell_type": "markdown",
   "metadata": {},
   "source": [
    "# TODO: virtualenv, python -m"
   ]
  },
  {
   "cell_type": "markdown",
   "metadata": {},
   "source": [
    "# TODO: Imports :("
   ]
  },
  {
   "cell_type": "markdown",
   "metadata": {},
   "source": [
    "# TODO: dynamic class creation"
   ]
  },
  {
   "cell_type": "markdown",
   "metadata": {},
   "source": [
    "# TODO: microbenchmarking"
   ]
  },
  {
   "cell_type": "markdown",
   "metadata": {},
   "source": [
    "### super() TODO"
   ]
  },
  {
   "cell_type": "code",
   "execution_count": null,
   "metadata": {},
   "outputs": [],
   "source": [
    "class Square(Rectangle):\n",
    "    def __init__(self, length):\n",
    "        super().__init__(length, length)\n",
    "\n",
    "class Cube(Square):\n",
    "    def surface_area(self):\n",
    "        face_area = super().area()\n",
    "        return face_area * 6\n",
    "\n",
    "    def volume(self):\n",
    "        face_area = super().area()\n",
    "        return face_area * self.length"
   ]
  }
 ],
 "metadata": {
  "kernelspec": {
   "display_name": "Python 3",
   "language": "python",
   "name": "python3"
  },
  "language_info": {
   "codemirror_mode": {
    "name": "ipython",
    "version": 3
   },
   "file_extension": ".py",
   "mimetype": "text/x-python",
   "name": "python",
   "nbconvert_exporter": "python",
   "pygments_lexer": "ipython3",
   "version": "3.8.0b4"
  }
 },
 "nbformat": 4,
 "nbformat_minor": 2
}
